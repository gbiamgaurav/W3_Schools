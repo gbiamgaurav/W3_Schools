{
  "nbformat": 4,
  "nbformat_minor": 0,
  "metadata": {
    "colab": {
      "provenance": [],
      "authorship_tag": "ABX9TyM5spZgM28zYXJ1Vjm5fuw1",
      "include_colab_link": true
    },
    "kernelspec": {
      "name": "python3",
      "display_name": "Python 3"
    },
    "language_info": {
      "name": "python"
    }
  },
  "cells": [
    {
      "cell_type": "markdown",
      "metadata": {
        "id": "view-in-github",
        "colab_type": "text"
      },
      "source": [
        "<a href=\"https://colab.research.google.com/github/gbiamgaurav/W3_Schools/blob/main/Functions.ipynb\" target=\"_parent\"><img src=\"https://colab.research.google.com/assets/colab-badge.svg\" alt=\"Open In Colab\"/></a>"
      ]
    },
    {
      "cell_type": "code",
      "execution_count": 1,
      "metadata": {
        "id": "4Q5nlBeH0-ZU"
      },
      "outputs": [],
      "source": [
        "def my_function():\n",
        "  print(\"Hello World\")"
      ]
    },
    {
      "cell_type": "code",
      "source": [
        "my_function()"
      ],
      "metadata": {
        "colab": {
          "base_uri": "https://localhost:8080/"
        },
        "id": "M0vmP1A11mHL",
        "outputId": "be96395a-e45f-421a-d8b5-f7e90813b5a8"
      },
      "execution_count": 2,
      "outputs": [
        {
          "output_type": "stream",
          "name": "stdout",
          "text": [
            "Hello World\n"
          ]
        }
      ]
    },
    {
      "cell_type": "code",
      "source": [
        "def my_function(fname):\n",
        "  print(fname + 'Gaurav')\n",
        "\n",
        "my_function('Emil')\n",
        "my_function('Tobias')\n",
        "my_function('Linus')  "
      ],
      "metadata": {
        "colab": {
          "base_uri": "https://localhost:8080/"
        },
        "id": "Vtzj-o7B1og6",
        "outputId": "1698348b-0ea0-45b4-fabc-ef1ee6e14d26"
      },
      "execution_count": 3,
      "outputs": [
        {
          "output_type": "stream",
          "name": "stdout",
          "text": [
            "EmilGaurav\n",
            "TobiasGaurav\n",
            "LinusGaurav\n"
          ]
        }
      ]
    },
    {
      "cell_type": "code",
      "source": [
        "def my_function(fname, lname, age, profession):\n",
        "  print(fname + \" \" + lname, \" \", age, \" \", profession)\n",
        "\n",
        "my_function('Gaurav', 'Bhattacharya', 32, 'Banker')  "
      ],
      "metadata": {
        "colab": {
          "base_uri": "https://localhost:8080/"
        },
        "id": "UC2MbNPL19cN",
        "outputId": "da8b0f40-2d6c-4726-ad22-599f4fd26f63"
      },
      "execution_count": 4,
      "outputs": [
        {
          "output_type": "stream",
          "name": "stdout",
          "text": [
            "Gaurav Bhattacharya   32   Banker\n"
          ]
        }
      ]
    },
    {
      "cell_type": "code",
      "source": [
        "def my_function(fname, lname):\n",
        "  print(fname + \" \" + lname)"
      ],
      "metadata": {
        "id": "HHLi0Gb82PF9"
      },
      "execution_count": 5,
      "outputs": []
    },
    {
      "cell_type": "code",
      "source": [
        "my_function('Gaurav', 'Bhattacharya')"
      ],
      "metadata": {
        "colab": {
          "base_uri": "https://localhost:8080/"
        },
        "id": "mbJoRj9x3Xc9",
        "outputId": "da53da82-771a-448e-8cb8-c4d7f706dc3b"
      },
      "execution_count": 6,
      "outputs": [
        {
          "output_type": "stream",
          "name": "stdout",
          "text": [
            "Gaurav Bhattacharya\n"
          ]
        }
      ]
    },
    {
      "cell_type": "code",
      "source": [
        "def my_function(*kids):\n",
        "  print(\"the youngest child is \" + kids[2])"
      ],
      "metadata": {
        "id": "gfnSqNig3bpY"
      },
      "execution_count": 7,
      "outputs": []
    },
    {
      "cell_type": "code",
      "source": [
        "my_function(\"Emil\", 'Tobias', 'Linus')"
      ],
      "metadata": {
        "colab": {
          "base_uri": "https://localhost:8080/"
        },
        "id": "QLMiHsI73rF-",
        "outputId": "7e10af03-27b1-4bb4-d54b-948f22a49a58"
      },
      "execution_count": 8,
      "outputs": [
        {
          "output_type": "stream",
          "name": "stdout",
          "text": [
            "the youngest child is Linus\n"
          ]
        }
      ]
    },
    {
      "cell_type": "code",
      "source": [
        "def my_function(child1, child2, child3):\n",
        "  print('The Youngest child is ' + child3)\n",
        "\n",
        "my_function(child1='Emil', child2='Tobias', child3='Linus')  "
      ],
      "metadata": {
        "colab": {
          "base_uri": "https://localhost:8080/"
        },
        "id": "qS8-OTHd3ws9",
        "outputId": "16f60662-3875-4b6d-f9ce-aa2c3afeaa59"
      },
      "execution_count": 9,
      "outputs": [
        {
          "output_type": "stream",
          "name": "stdout",
          "text": [
            "The Youngest child is Linus\n"
          ]
        }
      ]
    },
    {
      "cell_type": "code",
      "source": [
        "def my_function(**kid):\n",
        "  print('His last name is ' + kid['lname'])\n",
        "\n",
        "my_function(fname = 'Gaurav', lname = 'Bhattacharya')  "
      ],
      "metadata": {
        "colab": {
          "base_uri": "https://localhost:8080/"
        },
        "id": "Y_Dz7eht4IIM",
        "outputId": "18c973d4-e417-41fc-b86f-dac12fabcd6b"
      },
      "execution_count": 10,
      "outputs": [
        {
          "output_type": "stream",
          "name": "stdout",
          "text": [
            "His last name is Bhattacharya\n"
          ]
        }
      ]
    },
    {
      "cell_type": "code",
      "source": [
        "def my_function(country = \"Norway\"):\n",
        "  print(\"I am from \" + country)\n",
        "\n",
        "my_function(\"Sweden\")\n",
        "my_function(\"India\")\n",
        "my_function()\n",
        "my_function(\"Brazil\")"
      ],
      "metadata": {
        "colab": {
          "base_uri": "https://localhost:8080/"
        },
        "id": "qOgjBtDx5zfm",
        "outputId": "64e9d676-9f05-4d8b-c2db-2d1ba9beb4e9"
      },
      "execution_count": 11,
      "outputs": [
        {
          "output_type": "stream",
          "name": "stdout",
          "text": [
            "I am from Sweden\n",
            "I am from India\n",
            "I am from Norway\n",
            "I am from Brazil\n"
          ]
        }
      ]
    },
    {
      "cell_type": "code",
      "source": [
        "def my_function(name = 'Gaurav'):\n",
        "  print(\"My name is \" + name)\n",
        "\n",
        "my_function('Rahul')\n",
        "my_function('Sunil')\n",
        "my_function()\n",
        "my_function('Byomkesh')  "
      ],
      "metadata": {
        "colab": {
          "base_uri": "https://localhost:8080/"
        },
        "id": "ctVgdUFd56CP",
        "outputId": "1642d35f-84ef-41b6-afd4-60dd5a613de5"
      },
      "execution_count": 12,
      "outputs": [
        {
          "output_type": "stream",
          "name": "stdout",
          "text": [
            "My name is Rahul\n",
            "My name is Sunil\n",
            "My name is Gaurav\n",
            "My name is Byomkesh\n"
          ]
        }
      ]
    },
    {
      "cell_type": "code",
      "source": [
        "def my_function(food):\n",
        "  for x in food:\n",
        "    print(x)\n",
        "\n",
        "fruits = [\"apple\", \"banana\", \"mango\"]\n",
        "\n",
        "my_function(fruits)"
      ],
      "metadata": {
        "id": "-xEiAKD36Laz",
        "outputId": "a18bd8e6-ccbb-49b5-c417-b0966daabeb4",
        "colab": {
          "base_uri": "https://localhost:8080/"
        }
      },
      "execution_count": 13,
      "outputs": [
        {
          "output_type": "stream",
          "name": "stdout",
          "text": [
            "apple\n",
            "banana\n",
            "mango\n"
          ]
        }
      ]
    },
    {
      "cell_type": "code",
      "source": [
        "def my_function(x):\n",
        "  return 5 * x\n",
        "\n",
        "print(my_function(3))\n",
        "print(my_function(4))\n",
        "print(my_function(5))  "
      ],
      "metadata": {
        "id": "1kzHyllMYzsw",
        "outputId": "a1148ca5-18a7-4eb2-a2ab-4f6fceda3f4d",
        "colab": {
          "base_uri": "https://localhost:8080/"
        }
      },
      "execution_count": 14,
      "outputs": [
        {
          "output_type": "stream",
          "name": "stdout",
          "text": [
            "15\n",
            "20\n",
            "25\n"
          ]
        }
      ]
    },
    {
      "cell_type": "code",
      "source": [
        "def my_function():\n",
        "  pass"
      ],
      "metadata": {
        "id": "qzV_uT3zZFA4"
      },
      "execution_count": 15,
      "outputs": []
    },
    {
      "cell_type": "code",
      "source": [
        "def tri_recursion(k):\n",
        "  if(k > 0):\n",
        "    result = k + tri_recursion(k - 1)\n",
        "    print(result)\n",
        "  else:\n",
        "    result = 0\n",
        "  return result\n",
        "\n",
        "print(\"\\n\\nRecursion Example Results\")\n",
        "tri_recursion(6)      "
      ],
      "metadata": {
        "id": "UlnbyRrQZKPU",
        "outputId": "bb9e13b1-d6aa-42fd-8316-7d48ac757ae9",
        "colab": {
          "base_uri": "https://localhost:8080/"
        }
      },
      "execution_count": 16,
      "outputs": [
        {
          "output_type": "stream",
          "name": "stdout",
          "text": [
            "\n",
            "\n",
            "Recursion Example Results\n",
            "1\n",
            "3\n",
            "6\n",
            "10\n",
            "15\n",
            "21\n"
          ]
        },
        {
          "output_type": "execute_result",
          "data": {
            "text/plain": [
              "21"
            ]
          },
          "metadata": {},
          "execution_count": 16
        }
      ]
    },
    {
      "cell_type": "code",
      "source": [
        "def my_function(x):\n",
        "  return x + 5\n",
        "\n",
        "print(my_function(10))  "
      ],
      "metadata": {
        "id": "e0Sckc5PZp-s",
        "outputId": "7baf84ff-18fe-4910-9f87-4eaee577d9df",
        "colab": {
          "base_uri": "https://localhost:8080/"
        }
      },
      "execution_count": 20,
      "outputs": [
        {
          "output_type": "stream",
          "name": "stdout",
          "text": [
            "15\n"
          ]
        }
      ]
    },
    {
      "cell_type": "code",
      "source": [
        "my_function(10)"
      ],
      "metadata": {
        "id": "LBWDuwqhaTHE",
        "outputId": "f541883b-cc34-4383-d4f7-4af6f36e6952",
        "colab": {
          "base_uri": "https://localhost:8080/"
        }
      },
      "execution_count": 21,
      "outputs": [
        {
          "output_type": "execute_result",
          "data": {
            "text/plain": [
              "15"
            ]
          },
          "metadata": {},
          "execution_count": 21
        }
      ]
    },
    {
      "cell_type": "code",
      "source": [],
      "metadata": {
        "id": "90yK1W9zaVaz"
      },
      "execution_count": null,
      "outputs": []
    }
  ]
}