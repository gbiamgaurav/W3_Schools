{
  "nbformat": 4,
  "nbformat_minor": 0,
  "metadata": {
    "colab": {
      "provenance": [],
      "authorship_tag": "ABX9TyOJ/2w3QLYmlNYPQn6HCc6u",
      "include_colab_link": true
    },
    "kernelspec": {
      "name": "python3",
      "display_name": "Python 3"
    },
    "language_info": {
      "name": "python"
    }
  },
  "cells": [
    {
      "cell_type": "markdown",
      "metadata": {
        "id": "view-in-github",
        "colab_type": "text"
      },
      "source": [
        "<a href=\"https://colab.research.google.com/github/gbiamgaurav/W3_Schools/blob/main/Functions.ipynb\" target=\"_parent\"><img src=\"https://colab.research.google.com/assets/colab-badge.svg\" alt=\"Open In Colab\"/></a>"
      ]
    },
    {
      "cell_type": "code",
      "execution_count": 1,
      "metadata": {
        "id": "4Q5nlBeH0-ZU"
      },
      "outputs": [],
      "source": [
        "def my_function():\n",
        "  print(\"Hello World\")"
      ]
    },
    {
      "cell_type": "code",
      "source": [
        "my_function()"
      ],
      "metadata": {
        "colab": {
          "base_uri": "https://localhost:8080/"
        },
        "id": "M0vmP1A11mHL",
        "outputId": "5cecf07b-7fd4-4155-b065-6b30fe12dd6e"
      },
      "execution_count": 2,
      "outputs": [
        {
          "output_type": "stream",
          "name": "stdout",
          "text": [
            "Hello World\n"
          ]
        }
      ]
    },
    {
      "cell_type": "code",
      "source": [
        "def my_function(fname):\n",
        "  print(fname + 'Gaurav')\n",
        "\n",
        "my_function('Emil')\n",
        "my_function('Tobias')\n",
        "my_function('Linus')  "
      ],
      "metadata": {
        "colab": {
          "base_uri": "https://localhost:8080/"
        },
        "id": "Vtzj-o7B1og6",
        "outputId": "ed112a8b-e430-4e84-b619-da03cbba5ef5"
      },
      "execution_count": 3,
      "outputs": [
        {
          "output_type": "stream",
          "name": "stdout",
          "text": [
            "EmilGaurav\n",
            "TobiasGaurav\n",
            "LinusGaurav\n"
          ]
        }
      ]
    },
    {
      "cell_type": "code",
      "source": [
        "def my_function(fname, lname, age, profession):\n",
        "  print(fname + \" \" + lname, \" \", age, \" \", profession)\n",
        "\n",
        "my_function('Gaurav', 'Bhattacharya', 32, 'Banker')  "
      ],
      "metadata": {
        "colab": {
          "base_uri": "https://localhost:8080/"
        },
        "id": "UC2MbNPL19cN",
        "outputId": "39faf1ad-dab1-4e76-c4fe-7401fe544215"
      },
      "execution_count": 7,
      "outputs": [
        {
          "output_type": "stream",
          "name": "stdout",
          "text": [
            "Gaurav Bhattacharya   32   Banker\n"
          ]
        }
      ]
    },
    {
      "cell_type": "code",
      "source": [
        "def my_function(fname, lname):\n",
        "  print(fname + \" \" + lname)"
      ],
      "metadata": {
        "id": "HHLi0Gb82PF9"
      },
      "execution_count": 8,
      "outputs": []
    },
    {
      "cell_type": "code",
      "source": [
        "my_function('Gaurav', 'Bhattacharya')"
      ],
      "metadata": {
        "colab": {
          "base_uri": "https://localhost:8080/"
        },
        "id": "mbJoRj9x3Xc9",
        "outputId": "74f1d4d0-5986-4688-adeb-5d4f1b0f6096"
      },
      "execution_count": 9,
      "outputs": [
        {
          "output_type": "stream",
          "name": "stdout",
          "text": [
            "Gaurav Bhattacharya\n"
          ]
        }
      ]
    },
    {
      "cell_type": "code",
      "source": [
        "def my_function(*kids):\n",
        "  print(\"the youngest child is \" + kids[2])"
      ],
      "metadata": {
        "id": "gfnSqNig3bpY"
      },
      "execution_count": 10,
      "outputs": []
    },
    {
      "cell_type": "code",
      "source": [
        "my_function(\"Emil\", 'Tobias', 'Linus')"
      ],
      "metadata": {
        "colab": {
          "base_uri": "https://localhost:8080/"
        },
        "id": "QLMiHsI73rF-",
        "outputId": "3ed7ed28-2542-4768-e458-b1080b4d2c3f"
      },
      "execution_count": 11,
      "outputs": [
        {
          "output_type": "stream",
          "name": "stdout",
          "text": [
            "the youngest child is Linus\n"
          ]
        }
      ]
    },
    {
      "cell_type": "code",
      "source": [
        "def my_function(child1, child2, child3):\n",
        "  print('The Youngest child is ' + child3)\n",
        "\n",
        "my_function(child1='Emil', child2='Tobias', child3='Linus')  "
      ],
      "metadata": {
        "colab": {
          "base_uri": "https://localhost:8080/"
        },
        "id": "qS8-OTHd3ws9",
        "outputId": "2c30e2e6-949b-4c60-e44e-94814aa0a060"
      },
      "execution_count": 12,
      "outputs": [
        {
          "output_type": "stream",
          "name": "stdout",
          "text": [
            "The Youngest child is Linus\n"
          ]
        }
      ]
    },
    {
      "cell_type": "code",
      "source": [
        "def my_function(**kid):\n",
        "  print('His last name is ' + kid['lname'])\n",
        "\n",
        "my_function(fname = 'Gaurav', lname = 'Bhattacharya')  "
      ],
      "metadata": {
        "colab": {
          "base_uri": "https://localhost:8080/"
        },
        "id": "Y_Dz7eht4IIM",
        "outputId": "17f83225-29d3-42d3-bdb7-c761e54a5c6d"
      },
      "execution_count": 13,
      "outputs": [
        {
          "output_type": "stream",
          "name": "stdout",
          "text": [
            "His last name is Bhattacharya\n"
          ]
        }
      ]
    },
    {
      "cell_type": "code",
      "source": [
        "def my_function(country = \"Norway\"):\n",
        "  print(\"I am from \" + country)\n",
        "\n",
        "my_function(\"Sweden\")\n",
        "my_function(\"India\")\n",
        "my_function()\n",
        "my_function(\"Brazil\")"
      ],
      "metadata": {
        "colab": {
          "base_uri": "https://localhost:8080/"
        },
        "id": "qOgjBtDx5zfm",
        "outputId": "ba1fbde6-8f2e-4aff-fbe0-f8c6c3ed167b"
      },
      "execution_count": 14,
      "outputs": [
        {
          "output_type": "stream",
          "name": "stdout",
          "text": [
            "I am from Sweden\n",
            "I am from India\n",
            "I am from Norway\n",
            "I am from Brazil\n"
          ]
        }
      ]
    },
    {
      "cell_type": "code",
      "source": [
        "def my_function(name = 'Gaurav'):\n",
        "  print(\"My name is \" + name)\n",
        "\n",
        "my_function('Rahul')\n",
        "my_function('Sunil')\n",
        "my_function()\n",
        "my_function('Byomkesh')  "
      ],
      "metadata": {
        "colab": {
          "base_uri": "https://localhost:8080/"
        },
        "id": "ctVgdUFd56CP",
        "outputId": "9ab4f67e-d5bc-4abf-d616-af85d548f322"
      },
      "execution_count": 15,
      "outputs": [
        {
          "output_type": "stream",
          "name": "stdout",
          "text": [
            "My name is Rahul\n",
            "My name is Sunil\n",
            "My name is Gaurav\n",
            "My name is Byomkesh\n"
          ]
        }
      ]
    },
    {
      "cell_type": "code",
      "source": [],
      "metadata": {
        "id": "-xEiAKD36Laz"
      },
      "execution_count": null,
      "outputs": []
    }
  ]
}